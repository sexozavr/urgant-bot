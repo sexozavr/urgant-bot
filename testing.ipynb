{
 "cells": [
  {
   "cell_type": "code",
   "execution_count": 3,
   "metadata": {},
   "outputs": [],
   "source": [
    "import re"
   ]
  },
  {
   "cell_type": "code",
   "execution_count": 50,
   "metadata": {},
   "outputs": [],
   "source": []
  },
  {
   "cell_type": "code",
   "execution_count": 55,
   "metadata": {},
   "outputs": [
    {
     "data": {
      "text/plain": [
       "' entrails ripped from a virgins cunt necropedophile '"
      ]
     },
     "execution_count": 55,
     "metadata": {},
     "output_type": "execute_result"
    }
   ],
   "source": [
    "string = '{{({ entrails ripped from a virgins cunt }}}              necropedophile амогус'\n",
    "\n",
    "string = re.sub(r\"[А-я]\", \" \", string)\n",
    "string = re.sub(r\"[{}]|[()]\", \" \", string)\n",
    "string = re.sub(r\"\\s+\", \" \", string)\n",
    "string"
   ]
  },
  {
   "cell_type": "code",
   "execution_count": 1,
   "metadata": {},
   "outputs": [],
   "source": [
    "def f(x):\n",
    "    return x**2"
   ]
  },
  {
   "cell_type": "code",
   "execution_count": 2,
   "metadata": {},
   "outputs": [
    {
     "data": {
      "text/plain": [
       "[<function __main__.f(x)>]"
      ]
     },
     "execution_count": 2,
     "metadata": {},
     "output_type": "execute_result"
    }
   ],
   "source": [
    "[f]"
   ]
  },
  {
   "cell_type": "code",
   "execution_count": 32,
   "metadata": {},
   "outputs": [],
   "source": [
    "def preprocess_text(corpus) -> list:\n",
    "    for i in range(len(corpus)):\n",
    "        corpus[i] = str(corpus[i]).replace('[', '').replace(']', '')\n",
    "        corpus[i] = re.sub(r\"<[ ]*script.*?\\/[ ]*script[ ]*>\", \" \", corpus[i])\n",
    "        corpus[i] = re.sub(r\"<.*?>\", \"\", corpus[i])\n",
    "        corpus[i] = re.sub(r\"[{}]|[()]\", \" \", corpus[i])\n",
    "        corpus[i] = re.sub(r\"\\xa0|\\n\", \" \", corpus[i])\n",
    "        corpus[i] = re.sub(r\"\\s+\", \" \", corpus[i])\n",
    "\n",
    "    return corpus"
   ]
  },
  {
   "cell_type": "code",
   "execution_count": 33,
   "metadata": {},
   "outputs": [
    {
     "data": {
      "text/plain": [
       "[' necropedophile ']"
      ]
     },
     "execution_count": 33,
     "metadata": {},
     "output_type": "execute_result"
    }
   ],
   "source": [
    "preprocess_text(['<script>entrails ripped from a virgins cunt</script> necropedophile <p>'])"
   ]
  },
  {
   "cell_type": "code",
   "execution_count": null,
   "metadata": {},
   "outputs": [],
   "source": []
  },
  {
   "cell_type": "code",
   "execution_count": null,
   "metadata": {},
   "outputs": [],
   "source": []
  }
 ],
 "metadata": {
  "kernelspec": {
   "display_name": "Python 3",
   "language": "python",
   "name": "python3"
  },
  "language_info": {
   "codemirror_mode": {
    "name": "ipython",
    "version": 3
   },
   "file_extension": ".py",
   "mimetype": "text/x-python",
   "name": "python",
   "nbconvert_exporter": "python",
   "pygments_lexer": "ipython3",
   "version": "3.7.3"
  }
 },
 "nbformat": 4,
 "nbformat_minor": 4
}
